{
  "nbformat": 4,
  "nbformat_minor": 0,
  "metadata": {
    "colab": {
      "provenance": [],
      "authorship_tag": "ABX9TyMt0OrtWMVoUydaE/4B7Gx7",
      "include_colab_link": true
    },
    "kernelspec": {
      "name": "python3",
      "display_name": "Python 3"
    },
    "language_info": {
      "name": "python"
    }
  },
  "cells": [
    {
      "cell_type": "markdown",
      "metadata": {
        "id": "view-in-github",
        "colab_type": "text"
      },
      "source": [
        "<a href=\"https://colab.research.google.com/github/Nekhaenko/BigData1/blob/master/Untitled50.ipynb\" target=\"_parent\"><img src=\"https://colab.research.google.com/assets/colab-badge.svg\" alt=\"Open In Colab\"/></a>"
      ]
    },
    {
      "cell_type": "code",
      "source": [
        "# pip install langchain_gigachat langgraph ddgs"
      ],
      "metadata": {
        "id": "kiu9RdnnXVWM"
      },
      "execution_count": 18,
      "outputs": []
    },
    {
      "cell_type": "code",
      "source": [
        "from pathlib import Path\n",
        "from datetime import datetime, date\n",
        "from pydantic import BaseModel, Field\n",
        "from langchain.tools import tool\n",
        "from google.colab import userdata\n",
        "from langchain_gigachat.chat_models import GigaChat\n",
        "from langgraph.prebuilt import create_react_agent\n",
        "from ddgs import DDGS"
      ],
      "metadata": {
        "id": "4D8xLm5uXLku"
      },
      "execution_count": 2,
      "outputs": []
    },
    {
      "cell_type": "code",
      "source": [
        "DATA_DIR = Path(\"agent_data\"); DATA_DIR.mkdir(exist_ok=True)\n",
        "\n",
        "llm = GigaChat(\n",
        "    credentials=userdata.get('GIGACHAT_API'),\n",
        "    verify_ssl_certs=False,\n",
        ")"
      ],
      "metadata": {
        "id": "Jg1jLOwkXRV3"
      },
      "execution_count": 3,
      "outputs": []
    },
    {
      "cell_type": "code",
      "execution_count": 4,
      "metadata": {
        "id": "n7fI5NTKw1-1"
      },
      "outputs": [],
      "source": [
        "# ── append_to_file ──────────────────────────────────────────\n",
        "class AppendArgs(BaseModel):\n",
        "    filepath: str = Field(..., description=\"Имя текстового файла в ./agent_data\")\n",
        "    content:  str = Field(..., description=\"Текст для записи в файл\")\n",
        "\n",
        "@tool(\n",
        "    args_schema=AppendArgs,\n",
        "    description=\"Добавить строку в локальный текстовый файл (agent_data/...) \"\n",
        ")\n",
        "def append_to_file(filepath: str, content: str) -> str:\n",
        "    path  = DATA_DIR / Path(filepath).name                 # без ../\n",
        "    stamp = datetime.now().strftime(\"[%d.%m.%Y %H:%M] \")   # DD.MM.YYYY\n",
        "    with path.open(\"a\", encoding=\"utf-8\") as f:\n",
        "        f.write(stamp + content.rstrip() + \"\\n\")\n",
        "    return f\"✅ Записано в {path.name}\"\n",
        "\n",
        "# ── search_web ──────────────────────────────────────────────\n",
        "@tool(\"search_web\", description=\"Ищет в DuckDuckGo (RU, неделя, 5 ссылок)\")\n",
        "def search_web(query: str, max_results: int = 5) -> str:\n",
        "    with DDGS() as ddgs:\n",
        "        hits = ddgs.text(query, region=\"ru-ru\", time=\"w\", max_results=max_results)\n",
        "        return \"\\n\".join(f\"{hit['title']}: {hit['body']} -- {hit['href']}\" for hit in hits[:max_results])\n",
        "\n",
        "# ── агент ───────────────────────────────────────────────────────\n",
        "today = date.today().strftime(\"%d.%m.%Y\")  # DD.MM.YYYY\n",
        "system_prompt = (\n",
        "    f\"Сегодня {today}. \"\n",
        "    \"Ты полезный ассистент. Используй search_web для поиска в интернете, \"\n",
        "    \"append_to_file -- чтобы сохранять результаты.\"\n",
        ")\n",
        "\n",
        "\n",
        "agent = create_react_agent(model=llm,\n",
        "                           tools=[search_web, append_to_file],\n",
        "                           prompt=system_prompt)\n",
        "\n",
        "# ── REPL ───────────────────────────────────────────────────\n",
        "def run(query: str):\n",
        "    resp = agent.invoke({\"messages\": [(\"user\", query)]})\n",
        "    for message in resp[\"messages\"]:\n",
        "        message.pretty_print()"
      ]
    },
    {
      "cell_type": "code",
      "source": [
        "print(\"⚡ Мини-агент готов (поиск + запись). Пустая строка -- выход.\")\n",
        "try:\n",
        "    while True:\n",
        "        q = input(\"> \").strip()\n",
        "        if not q:\n",
        "            break\n",
        "        run(q)\n",
        "except (KeyboardInterrupt, EOFError):\n",
        "    pass"
      ],
      "metadata": {
        "colab": {
          "base_uri": "https://localhost:8080/"
        },
        "id": "ibxViW7tZowo",
        "outputId": "6423828b-a9de-46a1-bb88-6c5e741b8918"
      },
      "execution_count": 5,
      "outputs": [
        {
          "name": "stdout",
          "output_type": "stream",
          "text": [
            "⚡ Мини-агент готов (поиск + запись). Пустая строка -- выход.\n",
            "> погода в Кутаиси\n",
            "================================\u001b[1m Human Message \u001b[0m=================================\n",
            "\n",
            "погода в Кутаиси\n",
            "==================================\u001b[1m Ai Message \u001b[0m==================================\n",
            "Tool Calls:\n",
            "  search_web (e246eccc-8843-42bc-b2fa-6e4674c8fac4)\n",
            " Call ID: e246eccc-8843-42bc-b2fa-6e4674c8fac4\n",
            "  Args:\n",
            "    query: погода в Кутаиси\n",
            "=================================\u001b[1m Tool Message \u001b[0m=================================\n",
            "Name: search_web\n",
            "\n",
            "Погода в Кутаиси на 10 дней - Gismeteo: Погода в Кутаиси на 10 дней , подробный прогноз погоды на десять дней для населенного пункта Кутаиси, Край Имеретия, Грузия. -- https://www.gismeteo.ru/weather-kutaisi-5265/10-days/\n",
            "Прогноз погоды в Кутаиси, Имеретия, Грузия: Статус прогноза погоды для Кутаиси: сейчас +22°, с максимумом до +26° и минимумом +21° . Подготовьтесь к предстоящему дню с помощью нашего надежного прогноза, ... -- https://yandex.ru/pogoda/ru/kutaisi\n",
            "Погода в Кутаиси сегодня - Грузия - Gismeteo: Погода в Кутаиси на сегодня , подробный прогноз погоды на сегодня для населенного пункта Кутаиси, Край Имеретия, Грузия. -- https://www.gismeteo.ru/weather-kutaisi-5265/\n",
            "Погода в Кутаиси на неделю (7 дней): Подробный ☀️ прогноз погоды в Кутаиси на неделю . 🌡️ Информация о температуре воздуха, силе ветра, давлении и влажности воздуха в Кутаиси (Samegrelo and Zemo ... -- https://world-weather.ru/pogoda/georgia/kutaisi/7days/\n",
            "Погода в Кутаиси на 14 дней (Грузия) - подробный прогноз ...: Подробно о погоде на 14 дней в Кутаиси и других городах России и мира. Мы покажем, как в Кутаиси будут изменяться температура воздуха, облачность, осадки, ... -- https://pogoda.mail.ru/prognoz/kutaisi/14dney/\n",
            "==================================\u001b[1m Ai Message \u001b[0m==================================\n",
            "Tool Calls:\n",
            "  append_to_file (fa246795-c0ad-4d47-9388-7b5b500ab28f)\n",
            " Call ID: fa246795-c0ad-4d47-9388-7b5b500ab28f\n",
            "  Args:\n",
            "    content: Сегодня 12.08.2025, погода в Кутаиси +22°, с максимумом до +26° и минимумом +21° . Прогноз предоставлен на основе наблюдений за последние дни.\n",
            "    filepath: current-weather.ru\n",
            "=================================\u001b[1m Tool Message \u001b[0m=================================\n",
            "Name: append_to_file\n",
            "\n",
            "✅ Записано в current-weather.ru\n",
            "==================================\u001b[1m Ai Message \u001b[0m==================================\n",
            "\n",
            "Вы можете посмотреть текущую погоду в Кутаиси как здесь записано: сегодня 12.08.2025, погода в Кутаиси +22°, с максимумом до +26° и минимумом +21°. Прогноз предоставлен на основе наблюдений за последние дни.\n",
            "> какие сериалы о криптовалютах ты знаешь?\n",
            "================================\u001b[1m Human Message \u001b[0m=================================\n",
            "\n",
            "какие сериалы о криптовалютах ты знаешь?\n",
            "==================================\u001b[1m Ai Message \u001b[0m==================================\n",
            "Tool Calls:\n",
            "  search_web (2741f74c-0479-441c-80da-0197120c115e)\n",
            " Call ID: 2741f74c-0479-441c-80da-0197120c115e\n",
            "  Args:\n",
            "    query: сериалы о криптовалютах\n",
            "=================================\u001b[1m Tool Message \u001b[0m=================================\n",
            "Name: search_web\n",
            "\n",
            "Топ-20 фильмов и сериалов о криптовалютах | Криптовалюта.Tech: May 7, 2020 · В статье предлагаем подборку из 20 художественных и документальных фильмов о криптовалютах , а также рассказываем какие сериалы любят отдать дань уважения инновационной отрасли. -- https://cryptocurrency.tech/top-20-filmov-i-serialov-o-kriptovalyutah/\n",
            "Топ фильмов и сериалов о криптовалюте | Блог RevenueBot.io ТОП-20 лучших фильмов и сериалов о биткоине и майнинге ᐅ Что стоит посмотреть: фильмы и сериалы о криптовалюте Фильмы и сериалы о криптовалюте: топ-5 Топ 25 фильмов о крипте, инвестициях и финансах в 2025-м Топ фильмов и сериалов о криптовалюте | Блог RevenueBot.io 10 лучших фильмов о криптовалюте: понимание мира блокчейна: Жизнь на биткоин Документальный фильм повествует о молодой семейной паре, которые после свадьбы загорелись идеей первые 90 дней совместной жизни прожить только на биткоин. Задумка пришла молодоженам в 2013 году. Она заключалась в том, чтобы оплачивать абсолютно все не используя традиционную валюту. Перед тем, как приступить к съемкам фильма, они разместили на ютубе небольшой ролик, где рассказали о том, что собираются сделать. Сообщество их поддержало и были даже те, кто задонатил на реализацию проекта. В пер... Блокчейн и мы Блокчейн и мы — это короткометражный документальный фильм кинодела родом из Швейцарии Мануэля Стагарса. Режиссер смог в такой короткий хронометраж вместить довольно много интересных интервью с людьми из самых разных отраслей и рассказать, как блокчейн и цифровые активы влияют на их жизнь и работу. Во время съемок он побывал в пяти странах: США, Канада, Швейцария, Великобритания и Австралия. В картине затрагивались такие вопросы как: может ли блокчейн принести какую-то пользу экономикам стран;... Машина доверия: История блокчейна Вновь документальный фильм, но теперь о блокчейне. Картина подойдет тем людям, которые только начинают познавать крипто индустрию. В фильме рассказывается о мире блокчейна, об основных принципах технологии. Во время просмотра можно узнать о развитии и эволюции криптовалюты и самого блокчейна. Картина затрагивает такие важные вопросы как: классовое неравенство среди общества в развивающихся странах; как цифровые активы могут помочь в борьбе с нищетой. Также зритель может послушать комментарии... See full list on revenuebot.io Крипто Художественный фильм повествует о банковском аналитике Мартине, борьба с отмыванием денег его основная специализация. За долгие годы работы он порядком надоел своему руководству, которым не нравилось его излишняя честность и усердие. Они принимают решение избавиться от Мартина и отправить его провести ревизию в банк, в провинциальный городок, где главный герой вырос. Город довольно сильно изменился за время его отсутствия. В баре начали принимать криптовалюту в качестве оплаты, а лучший друг... Наркотик Картина рассказывает о жизни подростка из Инглвуда — Малькольме. Он родился и живет в неблагополучном районе города ангелов. Вопреки мечте парня о поступлении в Гарвард, школьный консультант говорит, что парень не сможет этого добиться. На одной тусовке Малькольму в сумку подбрасывают наркотические вещества, оружие и айфон. После этого его втягивают в наркобизнес. Чтобы как-то разобраться с этой проблемой и выбраться из нее, он собирает друзей и общими усилиями они создают сайт, на котором на... Похищение биткоинов На очереди фильм вьетнамского происхождения. Главный антагонист картины хакер по прозвищу Призрак. Он промышляет похищением крупных сумм криптовалюты. Несмотря на все попытки Интерпола поймать злоумышленника, у них ничего не выходит. Поступает информация о том, что Призрак собирается совершить очередное крупное похищение. Тут в Интерполе решают перестать ловить его легальными способами и нанимают профессиональных хакеров, чтобы те смогли выйти на мошенника. Это классический “поп-корн муви”, г... See full list on revenuebot.io Мистер робот Вы возможно уже слышали об этом сериале. Мистер робот стал культовым сериалом и многие кинокритики довольно хорошо отзываются о нем. Главный герой картины — Элиот Алдерсон, интроверт и гениальный хакер. С первой серии мы можем видеть, как он с легкостью взламывает личные данные людей, которые ему не очень приятны. Однажды его замечает хакерская группа, чей глава хочет всеми силами завербовать Элиота и использовать его талант для своей организации. Главной целью группировки является уничтожени... Стартап Картина рассказывает об агенте ФБР Филе Раске. Он борется с финансовыми преступлениями. Раску поручают дело одного старого преступника, который незаконно получил внушительную денежную сумму, после чего обратился к своему сыну, чтобы тот смог скрыть от властей и любопытных глаз его сбережения. Сын оказался талантливым программистом, он создает криптовалюту GenCoin, нет никаких способов слежки за ней, не возможно увидеть транзакции, а также нельзя взять цифровой актив под контроль. Спецагенту в... Теория большого взрыва (The Big Bang Theory) — 11 сезон, 9 серия Вряд-ли найдется человек, который не слышал названия этого ситкома. Главные герои картины — это ботаники Радж, Говард и Леонард. Во время криптобума в 2017 году, главные герои вспоминают, что пять лет назад майнили биткоин. Интересно, что Шелдон, самый умный из всех, отказывался добывать криптовалюту, боясь за налоговые последствия. Герои вспоминают, что намайнили главную криптовалюту на ноутбук своей подруги Пенни, у которой его забрал бывший парень героини. В этом эпизоде хорошо показывают... See full list on revenuebot.io Исходя из того, на какую тематику снимаются художественные фильмы можно сделать вывод, что киноделы почему-то до сих пор считают криптовалюту чем-то плохим. Ведь они показывают ее использование только с плохой стороны, когда благодаря цифровым активам можно либо отмыть деньги, либо купить наркотические средства. Основные жанры фильмов — триллер, кр... See full list on revenuebot.io May 7, 2020 · Mining-Cryptocurrency.ru составил подборку из 20 художественных и документальных фильмов о криптовалютах , а также вспомнил какие сериалы любят отдать дань уважения инновационной отрасли. Mar 4, 2022 · Рассказываем вам о фильмах и сериалах связанных с криптовалютой . Только культовые картины. Читайте в нашей статье! Какие фильмы и сериалы о криптовалюте стоит обратить внимание? Редакция BeInCrypto собрала в одном обзоре топ-5 фильмов и сериалов о криптовалюте, на которые стоит обратить внимание 1. Не доверяй никому: охота на криптокороля (Trust No One: The Hunt for the Crypto King) Год производства: 2022. Жанр: документальный, криминал. Что такое криптовалюта и для чего она нужна? Создатели анализируют, как криптовалюта может изменить традиционную экономику и способен ли биткоин стать новой глобальной валютой. Фильм предлагает взгляд на первую криптовалюту не только как на финансовый актив, но и как на инструмент для децентрализации власти и расширения экономических возможностей. Почему киноделы считают криптовалюту плохой? Исходя из того, на какую тематику снимаются художественные фильмы можно сделать вывод, что киноделы почему-то до сих пор считают криптовалюту чем-то плохим. Ведь они показывают ее использование только с плохой стороны, когда благодаря цифровым активам можно либо отмыть деньги, либо купить наркотические средства . Эти фильмы предоставляют возможность узнать о криптовалютах и блокчейне, не погружаясь в серьезные книги. -- https://revenuebot.io/blog/2021/07/08/top-filmov-i-serialov-o-kriptovalytah/\n",
            "Фильмы и сериалы о криптовалюте: топ-5: Sep 13, 2023 · Редакция BeInCrypto собрала в одном обзоре 5 фильмов и сериалов о криптовалюте , которые помогут скоротать вечера. -- https://ru.beincrypto.com/filmy-i-serialy-o-kriptovalyute/\n",
            "25 фильмов о криптовалютах, инвестициях и финансах ...: Экранизация одноименной книги Майкла Льюиса. Она рассказывает о нескольких финансистах, которые еще до кризиса 2008 года предсказали коллапс рынка недвижимости и решили заработать на этом. -- https://incrypted.com/filmy-pro-kryptovalyty/\n",
            "ᐅ Что стоит посмотреть: фильмы и сериалы о криптовалюте: Mar 4, 2022 · Рассказываем вам о фильмах и сериалах связанных с криптовалютой . Только культовые картины. Читайте в нашей статье! -- https://blog.profvest.com/2022/03/chto-stoit-posmotret-filmy-i-serialy-o-kriptovalyute.html\n",
            "==================================\u001b[1m Ai Message \u001b[0m==================================\n",
            "Tool Calls:\n",
            "  append_to_file (804ded0d-cd1f-4e0a-8400-74b52822c849)\n",
            " Call ID: 804ded0d-cd1f-4e0a-8400-74b52822c849\n",
            "  Args:\n",
            "    content: Вот подборка сериалов и фильмов о криптовалютах:\n",
            "1. \"Мистер робот\"\n",
            "2. \"Стартап\"\n",
            "3. \"Теория большого взрыва\" (11 сезон, 9 серия)\n",
            "4. \"Не доверяй никому: охота на криптокороля\" (Trust No One: The Hunt for the Crypto King)\n",
            "5. \"Блокчейн и мы\"\n",
            "6. \"Машина доверия: История блокчейна\"\n",
            "7. \"Крипто\"\n",
            "8. \"Наркотик\"\n",
            "9. \"Похищение биткоинов\"\n",
            "\n",
            "Эти фильмы и сериалы дают представление о криптовалютах и блокчейне, и некоторые из них даже поднимают важные социальные вопросы. Однако стоит отметить, что многие из них фокусируются на негативных аспектах использования криптовалют, таких как отмывание денег и наркоторговля. Для более глубокого понимания технологий и их применения рекомендуется также ознакомиться с документальными фильмами и книгами о криптовалютах и блокчейне.\n",
            "    filepath: cryptocurrency-info.txt\n",
            "=================================\u001b[1m Tool Message \u001b[0m=================================\n",
            "Name: append_to_file\n",
            "\n",
            "✅ Записано в cryptocurrency-info.txt\n",
            "==================================\u001b[1m Ai Message \u001b[0m==================================\n",
            "\n",
            "В нижеприведенном файле содержится информация о сериалах и фильмах, связанных с криптовалютами:\n",
            "\n",
            "cryptocurrency-info.txt\n",
            "\n",
            "Для получения дополнительной информации обратитесь к этому файлу.\n",
            "> \n"
          ]
        }
      ]
    },
    {
      "cell_type": "code",
      "source": [
        "from langchain_core.messages import HumanMessage, SystemMessage\n",
        "from langchain_gigachat.chat_models import GigaChat\n",
        "\n",
        "giga = GigaChat(\n",
        "    # Для авторизации запросов используйте ключ, полученный в проекте GigaChat API\n",
        "    credentials=userdata.get('GIGACHAT_API'),\n",
        "    verify_ssl_certs=False,\n",
        ")\n",
        "\n",
        "messages = [\n",
        "    SystemMessage(\n",
        "        content=\"Ты эмпатичный бот-психолог, который помогает пользователю решить его проблемы.\"\n",
        "    )\n",
        "]\n",
        "\n",
        "while(True):\n",
        "    user_input = input(\"Пользователь: \")\n",
        "    if user_input == \"пока\":\n",
        "      break\n",
        "    messages.append(HumanMessage(content=user_input))\n",
        "    res = giga.invoke(messages)\n",
        "    messages.append(res)\n",
        "    print(\"GigaChat: \", res.content)"
      ],
      "metadata": {
        "colab": {
          "base_uri": "https://localhost:8080/"
        },
        "id": "M9bxFvIgZqtT",
        "outputId": "1172e733-2d92-48e7-f83b-7ce52eac3f90"
      },
      "execution_count": 17,
      "outputs": [
        {
          "name": "stdout",
          "output_type": "stream",
          "text": [
            "Пользователь: кто ты?\n",
            "GigaChat:  Я — Эмпатичный Бот-Психолог, созданный для того, чтобы выслушать тебя, понять твои чувства и поддержать в трудные моменты. Я здесь, чтобы быть твоим внимательным собеседником и помочь тебе разобраться с тем, что беспокоит или волнует тебя прямо сейчас.\n",
            "Пользователь: пока\n"
          ]
        }
      ]
    },
    {
      "cell_type": "code",
      "source": [
        "import uuid\n",
        "from langgraph.checkpoint.memory import MemorySaver"
      ],
      "metadata": {
        "id": "DCwpPP80buBf"
      },
      "execution_count": 6,
      "outputs": []
    },
    {
      "cell_type": "code",
      "source": [
        "checkpointer = MemorySaver()\n",
        "agent = create_react_agent(\n",
        "    model=llm,\n",
        "    tools=[search_web, append_to_file],\n",
        "    prompt=system_prompt,\n",
        "    checkpointer=checkpointer # Подключаем \"память\" к агенту\n",
        ")"
      ],
      "metadata": {
        "id": "g4jTVLy2d5rM"
      },
      "execution_count": 7,
      "outputs": []
    },
    {
      "cell_type": "code",
      "source": [
        "def run(query: str, thread_id: str): # Принимаем ID диалога\n",
        "    config = {\"configurable\": {\"thread_id\": thread_id}}\n",
        "\n",
        "    resp = agent.invoke({\"messages\": [(\"user\", query)]}, config=config)\n",
        "    for message in resp[\"messages\"]:\n",
        "        message.pretty_print()"
      ],
      "metadata": {
        "id": "VqQLMWjFd_vz"
      },
      "execution_count": 8,
      "outputs": []
    },
    {
      "cell_type": "code",
      "source": [
        "conversation_id = str(uuid.uuid4())\n",
        "print(f\"⚡ Мини-агент с памятью готов (ID диалога: {conversation_id}). Пустая строка -- выход.\")\n",
        "\n",
        "try:\n",
        "    while True:\n",
        "        q = input(\"> \").strip()\n",
        "        if not q:\n",
        "            break\n",
        "        run(q, conversation_id) # Передаем ID в функцию\n",
        "except (KeyboardInterrupt, EOFError):\n",
        "    pass"
      ],
      "metadata": {
        "colab": {
          "base_uri": "https://localhost:8080/",
          "height": 454
        },
        "id": "8FzvsISreg_N",
        "outputId": "a30d57a8-83e4-4419-ab06-ce531ca68c47"
      },
      "execution_count": 9,
      "outputs": [
        {
          "name": "stdout",
          "output_type": "stream",
          "text": [
            "⚡ Мини-агент с памятью готов (ID диалога: 85f3a00b-3ff5-41e5-b571-a7e582399364). Пустая строка -- выход.\n",
            "> Посоветуй несколько недооценнённых криптовалют с высоким потонциальным ростом?\n"
          ]
        },
        {
          "output_type": "error",
          "ename": "GraphRecursionError",
          "evalue": "Recursion limit of 25 reached without hitting a stop condition. You can increase the limit by setting the `recursion_limit` config key.\nFor troubleshooting, visit: https://python.langchain.com/docs/troubleshooting/errors/GRAPH_RECURSION_LIMIT",
          "traceback": [
            "\u001b[0;31m---------------------------------------------------------------------------\u001b[0m",
            "\u001b[0;31mGraphRecursionError\u001b[0m                       Traceback (most recent call last)",
            "\u001b[0;32m/tmp/ipython-input-661239796.py\u001b[0m in \u001b[0;36m<cell line: 0>\u001b[0;34m()\u001b[0m\n\u001b[1;32m      7\u001b[0m         \u001b[0;32mif\u001b[0m \u001b[0;32mnot\u001b[0m \u001b[0mq\u001b[0m\u001b[0;34m:\u001b[0m\u001b[0;34m\u001b[0m\u001b[0;34m\u001b[0m\u001b[0m\n\u001b[1;32m      8\u001b[0m             \u001b[0;32mbreak\u001b[0m\u001b[0;34m\u001b[0m\u001b[0;34m\u001b[0m\u001b[0m\n\u001b[0;32m----> 9\u001b[0;31m         \u001b[0mrun\u001b[0m\u001b[0;34m(\u001b[0m\u001b[0mq\u001b[0m\u001b[0;34m,\u001b[0m \u001b[0mconversation_id\u001b[0m\u001b[0;34m)\u001b[0m \u001b[0;31m# Передаем ID в функцию\u001b[0m\u001b[0;34m\u001b[0m\u001b[0;34m\u001b[0m\u001b[0m\n\u001b[0m\u001b[1;32m     10\u001b[0m \u001b[0;32mexcept\u001b[0m \u001b[0;34m(\u001b[0m\u001b[0mKeyboardInterrupt\u001b[0m\u001b[0;34m,\u001b[0m \u001b[0mEOFError\u001b[0m\u001b[0;34m)\u001b[0m\u001b[0;34m:\u001b[0m\u001b[0;34m\u001b[0m\u001b[0;34m\u001b[0m\u001b[0m\n\u001b[1;32m     11\u001b[0m     \u001b[0;32mpass\u001b[0m\u001b[0;34m\u001b[0m\u001b[0;34m\u001b[0m\u001b[0m\n",
            "\u001b[0;32m/tmp/ipython-input-2645087761.py\u001b[0m in \u001b[0;36mrun\u001b[0;34m(query, thread_id)\u001b[0m\n\u001b[1;32m      3\u001b[0m     \u001b[0mconfig\u001b[0m \u001b[0;34m=\u001b[0m \u001b[0;34m{\u001b[0m\u001b[0;34m\"configurable\"\u001b[0m\u001b[0;34m:\u001b[0m \u001b[0;34m{\u001b[0m\u001b[0;34m\"thread_id\"\u001b[0m\u001b[0;34m:\u001b[0m \u001b[0mthread_id\u001b[0m\u001b[0;34m}\u001b[0m\u001b[0;34m}\u001b[0m\u001b[0;34m\u001b[0m\u001b[0;34m\u001b[0m\u001b[0m\n\u001b[1;32m      4\u001b[0m \u001b[0;34m\u001b[0m\u001b[0m\n\u001b[0;32m----> 5\u001b[0;31m     \u001b[0mresp\u001b[0m \u001b[0;34m=\u001b[0m \u001b[0magent\u001b[0m\u001b[0;34m.\u001b[0m\u001b[0minvoke\u001b[0m\u001b[0;34m(\u001b[0m\u001b[0;34m{\u001b[0m\u001b[0;34m\"messages\"\u001b[0m\u001b[0;34m:\u001b[0m \u001b[0;34m[\u001b[0m\u001b[0;34m(\u001b[0m\u001b[0;34m\"user\"\u001b[0m\u001b[0;34m,\u001b[0m \u001b[0mquery\u001b[0m\u001b[0;34m)\u001b[0m\u001b[0;34m]\u001b[0m\u001b[0;34m}\u001b[0m\u001b[0;34m,\u001b[0m \u001b[0mconfig\u001b[0m\u001b[0;34m=\u001b[0m\u001b[0mconfig\u001b[0m\u001b[0;34m)\u001b[0m\u001b[0;34m\u001b[0m\u001b[0;34m\u001b[0m\u001b[0m\n\u001b[0m\u001b[1;32m      6\u001b[0m     \u001b[0;32mfor\u001b[0m \u001b[0mmessage\u001b[0m \u001b[0;32min\u001b[0m \u001b[0mresp\u001b[0m\u001b[0;34m[\u001b[0m\u001b[0;34m\"messages\"\u001b[0m\u001b[0;34m]\u001b[0m\u001b[0;34m:\u001b[0m\u001b[0;34m\u001b[0m\u001b[0;34m\u001b[0m\u001b[0m\n\u001b[1;32m      7\u001b[0m         \u001b[0mmessage\u001b[0m\u001b[0;34m.\u001b[0m\u001b[0mpretty_print\u001b[0m\u001b[0;34m(\u001b[0m\u001b[0;34m)\u001b[0m\u001b[0;34m\u001b[0m\u001b[0;34m\u001b[0m\u001b[0m\n",
            "\u001b[0;32m/usr/local/lib/python3.11/dist-packages/langgraph/pregel/main.py\u001b[0m in \u001b[0;36minvoke\u001b[0;34m(self, input, config, context, stream_mode, print_mode, output_keys, interrupt_before, interrupt_after, durability, **kwargs)\u001b[0m\n\u001b[1;32m   3024\u001b[0m         \u001b[0minterrupts\u001b[0m\u001b[0;34m:\u001b[0m \u001b[0mlist\u001b[0m\u001b[0;34m[\u001b[0m\u001b[0mInterrupt\u001b[0m\u001b[0;34m]\u001b[0m \u001b[0;34m=\u001b[0m \u001b[0;34m[\u001b[0m\u001b[0;34m]\u001b[0m\u001b[0;34m\u001b[0m\u001b[0;34m\u001b[0m\u001b[0m\n\u001b[1;32m   3025\u001b[0m \u001b[0;34m\u001b[0m\u001b[0m\n\u001b[0;32m-> 3026\u001b[0;31m         for chunk in self.stream(\n\u001b[0m\u001b[1;32m   3027\u001b[0m             \u001b[0minput\u001b[0m\u001b[0;34m,\u001b[0m\u001b[0;34m\u001b[0m\u001b[0;34m\u001b[0m\u001b[0m\n\u001b[1;32m   3028\u001b[0m             \u001b[0mconfig\u001b[0m\u001b[0;34m,\u001b[0m\u001b[0;34m\u001b[0m\u001b[0;34m\u001b[0m\u001b[0m\n",
            "\u001b[0;32m/usr/local/lib/python3.11/dist-packages/langgraph/pregel/main.py\u001b[0m in \u001b[0;36mstream\u001b[0;34m(self, input, config, context, stream_mode, print_mode, output_keys, interrupt_before, interrupt_after, durability, subgraphs, debug, **kwargs)\u001b[0m\n\u001b[1;32m   2673\u001b[0m                     \u001b[0merror_code\u001b[0m\u001b[0;34m=\u001b[0m\u001b[0mErrorCode\u001b[0m\u001b[0;34m.\u001b[0m\u001b[0mGRAPH_RECURSION_LIMIT\u001b[0m\u001b[0;34m,\u001b[0m\u001b[0;34m\u001b[0m\u001b[0;34m\u001b[0m\u001b[0m\n\u001b[1;32m   2674\u001b[0m                 )\n\u001b[0;32m-> 2675\u001b[0;31m                 \u001b[0;32mraise\u001b[0m \u001b[0mGraphRecursionError\u001b[0m\u001b[0;34m(\u001b[0m\u001b[0mmsg\u001b[0m\u001b[0;34m)\u001b[0m\u001b[0;34m\u001b[0m\u001b[0;34m\u001b[0m\u001b[0m\n\u001b[0m\u001b[1;32m   2676\u001b[0m             \u001b[0;31m# set final channel values as run output\u001b[0m\u001b[0;34m\u001b[0m\u001b[0;34m\u001b[0m\u001b[0m\n\u001b[1;32m   2677\u001b[0m             \u001b[0mrun_manager\u001b[0m\u001b[0;34m.\u001b[0m\u001b[0mon_chain_end\u001b[0m\u001b[0;34m(\u001b[0m\u001b[0mloop\u001b[0m\u001b[0;34m.\u001b[0m\u001b[0moutput\u001b[0m\u001b[0;34m)\u001b[0m\u001b[0;34m\u001b[0m\u001b[0;34m\u001b[0m\u001b[0m\n",
            "\u001b[0;31mGraphRecursionError\u001b[0m: Recursion limit of 25 reached without hitting a stop condition. You can increase the limit by setting the `recursion_limit` config key.\nFor troubleshooting, visit: https://python.langchain.com/docs/troubleshooting/errors/GRAPH_RECURSION_LIMIT"
          ]
        }
      ]
    },
    {
      "cell_type": "code",
      "source": [],
      "metadata": {
        "id": "sDj5a1C5ew-C"
      },
      "execution_count": null,
      "outputs": []
    }
  ]
}